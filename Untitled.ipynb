{
 "cells": [
  {
   "cell_type": "markdown",
   "metadata": {},
   "source": [
    "# COLLECTION TYPES IN PYTHON\n",
    "## LIST\n",
    "## TUPLE\n",
    "## SET\n",
    "## DICTIONARY\n",
    "### LIST: IT'S ORDERED AND MUTABLE ALLOWS DUPLICATE MEMBERS\n",
    "### TUPLE: IT'S ORDERED AND IMMUTABLE ALLOWS DUPLICATE MEMBERS\n",
    "### SET: IT'S UNORDERED AND UNINDEXED, NO DUPLICATE MEMBERS\n",
    "### DICT: UNORDERED,MUTABLE AND INDEXED, NO DUPLICATES\n"
   ]
  },
  {
   "cell_type": "code",
   "execution_count": 4,
   "metadata": {},
   "outputs": [
    {
     "name": "stdout",
     "output_type": "stream",
     "text": [
      "[12, 35, 'gitam', 'ravali']\n",
      "<class 'list'>\n"
     ]
    }
   ],
   "source": [
    "a=[12,35,\"gitam\",'ravali']\n",
    "print(a)\n",
    "print(type(a))\n"
   ]
  },
  {
   "cell_type": "code",
   "execution_count": 5,
   "metadata": {},
   "outputs": [
    {
     "name": "stdout",
     "output_type": "stream",
     "text": [
      "34 78 45 357 34 34 62 \n"
     ]
    }
   ],
   "source": [
    "b=[34,78,45,357,34,34,62]\n",
    "for ele in b:\n",
    "    print(ele,end=\" \")\n",
    "print()\n"
   ]
  },
  {
   "cell_type": "code",
   "execution_count": 14,
   "metadata": {},
   "outputs": [
    {
     "ename": "NameError",
     "evalue": "name 'FALSE' is not defined",
     "output_type": "error",
     "traceback": [
      "\u001b[1;31m---------------------------------------------------------------------------\u001b[0m",
      "\u001b[1;31mNameError\u001b[0m                                 Traceback (most recent call last)",
      "\u001b[1;32m<ipython-input-14-85a5b91ceb71>\u001b[0m in \u001b[0;36m<module>\u001b[1;34m\u001b[0m\n\u001b[0;32m      1\u001b[0m \u001b[0ma\u001b[0m\u001b[1;33m=\u001b[0m\u001b[1;36m0\u001b[0m\u001b[1;33m\u001b[0m\u001b[1;33m\u001b[0m\u001b[0m\n\u001b[1;32m----> 2\u001b[1;33m \u001b[1;32mif\u001b[0m \u001b[0mFALSE\u001b[0m\u001b[1;33m:\u001b[0m\u001b[1;33m\u001b[0m\u001b[1;33m\u001b[0m\u001b[0m\n\u001b[0m\u001b[0;32m      3\u001b[0m     \u001b[0mprint\u001b[0m\u001b[1;33m(\u001b[0m\u001b[1;34m\"hi\"\u001b[0m\u001b[1;33m)\u001b[0m\u001b[1;33m\u001b[0m\u001b[1;33m\u001b[0m\u001b[0m\n\u001b[0;32m      4\u001b[0m \u001b[1;32melif\u001b[0m \u001b[0mTRUE\u001b[0m\u001b[1;33m:\u001b[0m\u001b[1;33m\u001b[0m\u001b[1;33m\u001b[0m\u001b[0m\n\u001b[0;32m      5\u001b[0m     \u001b[0mprint\u001b[0m\u001b[1;33m(\u001b[0m\u001b[1;34m\"hello\"\u001b[0m\u001b[1;33m)\u001b[0m\u001b[1;33m\u001b[0m\u001b[1;33m\u001b[0m\u001b[0m\n",
      "\u001b[1;31mNameError\u001b[0m: name 'FALSE' is not defined"
     ]
    }
   ],
   "source": [
    "a=0\n",
    "if FALSE:\n",
    "    print(\"hi\")\n",
    "elif TRUE:\n",
    "    print(\"hello\")\n",
    "b=[36,45,56,45,43,564]\n",
    "del(b[0])\n",
    "print(b[4])\n",
    "print(b[-2])"
   ]
  },
  {
   "cell_type": "code",
   "execution_count": 32,
   "metadata": {},
   "outputs": [
    {
     "name": "stdout",
     "output_type": "stream",
     "text": [
      "[45, 56, 45, 43, 564]\n",
      "564\n",
      "43\n",
      "[45, 56, 45, 20, 43, 564]\n",
      "[45, 56, 99, 45, 20, 43, 564]\n",
      "[45, 56, 45, 20, 43, 564]\n",
      "[564, 43, 20, 45, 56, 45]\n",
      "[564, 43, 20, 45, 56, 45]\n",
      "[20, 43, 45, 45, 56, 564]\n",
      "[20, 43, 45, 45, 56, 564]\n",
      "[20, 45, 56]\n",
      "[564, 45, 43]\n",
      "[20, 43, 45, 45]\n"
     ]
    }
   ],
   "source": [
    "b=[36,45,56,45,43,564]\n",
    "del(b[0])\n",
    "print(b)\n",
    "print(b[4])\n",
    "print(b[-2])\n",
    "b.insert(-2,20)\n",
    "print(b)\n",
    "b.insert(2,99)\n",
    "print(b)\n",
    "b.pop(2)\n",
    "print(b)\n",
    "b.reverse()\n",
    "print(b)\n",
    "b.index(20)\n",
    "print(b)\n",
    "b.sort()\n",
    "print(b)\n",
    "max(b)\n",
    "print(b)\n",
    "sum(b)\n",
    "print(b[::2])\n",
    "print(b[::-2])\n",
    "print(b[:-2:])"
   ]
  },
  {
   "cell_type": "code",
   "execution_count": null,
   "metadata": {},
   "outputs": [],
   "source": [
    "a=int(input(\" \"))\n"
   ]
  },
  {
   "cell_type": "code",
   "execution_count": null,
   "metadata": {},
   "outputs": [],
   "source": []
  }
 ],
 "metadata": {
  "kernelspec": {
   "display_name": "Python 3",
   "language": "python",
   "name": "python3"
  },
  "language_info": {
   "codemirror_mode": {
    "name": "ipython",
    "version": 3
   },
   "file_extension": ".py",
   "mimetype": "text/x-python",
   "name": "python",
   "nbconvert_exporter": "python",
   "pygments_lexer": "ipython3",
   "version": "3.7.3"
  }
 },
 "nbformat": 4,
 "nbformat_minor": 2
}
